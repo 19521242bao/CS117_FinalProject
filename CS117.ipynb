{
  "nbformat": 4,
  "nbformat_minor": 0,
  "metadata": {
    "colab": {
      "name": "CS117.ipynb",
      "provenance": [],
      "collapsed_sections": [
        "7mXJpA12xfem"
      ],
      "authorship_tag": "ABX9TyMeaGjWy+ldm6j0OutvOIkl",
      "include_colab_link": true
    },
    "kernelspec": {
      "name": "python3",
      "display_name": "Python 3"
    },
    "language_info": {
      "name": "python"
    }
  },
  "cells": [
    {
      "cell_type": "markdown",
      "metadata": {
        "id": "view-in-github",
        "colab_type": "text"
      },
      "source": [
        "<a href=\"https://colab.research.google.com/github/19521242bao/CS117_FinalProject/blob/main/CS117.ipynb\" target=\"_parent\"><img src=\"https://colab.research.google.com/assets/colab-badge.svg\" alt=\"Open In Colab\"/></a>"
      ]
    },
    {
      "cell_type": "markdown",
      "metadata": {
        "id": "rMWdzlNkwpVX"
      },
      "source": [
        "# Import các thư viện cần sử dụng"
      ]
    },
    {
      "cell_type": "code",
      "metadata": {
        "colab": {
          "base_uri": "https://localhost:8080/"
        },
        "id": "mBASnv_QxXDG",
        "outputId": "75caf5ed-886a-4541-8650-b0813ce3fda0"
      },
      "source": [
        "!pip install underthesea"
      ],
      "execution_count": 1,
      "outputs": [
        {
          "output_type": "stream",
          "text": [
            "Collecting underthesea\n",
            "  Downloading underthesea-1.3.2-py3-none-any.whl (7.5 MB)\n",
            "\u001b[K     |████████████████████████████████| 7.5 MB 4.4 MB/s \n",
            "\u001b[?25hRequirement already satisfied: requests in /usr/local/lib/python3.7/dist-packages (from underthesea) (2.23.0)\n",
            "Requirement already satisfied: joblib in /usr/local/lib/python3.7/dist-packages (from underthesea) (1.0.1)\n",
            "Requirement already satisfied: tqdm in /usr/local/lib/python3.7/dist-packages (from underthesea) (4.62.0)\n",
            "Collecting transformers<=3.5.1,>=3.5.0\n",
            "  Downloading transformers-3.5.1-py3-none-any.whl (1.3 MB)\n",
            "\u001b[K     |████████████████████████████████| 1.3 MB 39.3 MB/s \n",
            "\u001b[?25hCollecting python-crfsuite>=0.9.6\n",
            "  Downloading python_crfsuite-0.9.7-cp37-cp37m-manylinux1_x86_64.whl (743 kB)\n",
            "\u001b[K     |████████████████████████████████| 743 kB 27.4 MB/s \n",
            "\u001b[?25hCollecting unidecode\n",
            "  Downloading Unidecode-1.2.0-py2.py3-none-any.whl (241 kB)\n",
            "\u001b[K     |████████████████████████████████| 241 kB 52.6 MB/s \n",
            "\u001b[?25hCollecting torch<=1.5.1,>=1.1.0\n",
            "  Downloading torch-1.5.1-cp37-cp37m-manylinux1_x86_64.whl (753.2 MB)\n",
            "\u001b[K     |████████████████████████████████| 753.2 MB 12 kB/s \n",
            "\u001b[?25hRequirement already satisfied: scikit-learn in /usr/local/lib/python3.7/dist-packages (from underthesea) (0.22.2.post1)\n",
            "Requirement already satisfied: PyYAML in /usr/local/lib/python3.7/dist-packages (from underthesea) (3.13)\n",
            "Requirement already satisfied: chardet in /usr/local/lib/python3.7/dist-packages (from underthesea) (3.0.4)\n",
            "Requirement already satisfied: nltk in /usr/local/lib/python3.7/dist-packages (from underthesea) (3.2.5)\n",
            "Collecting seqeval\n",
            "  Downloading seqeval-1.2.2.tar.gz (43 kB)\n",
            "\u001b[K     |████████████████████████████████| 43 kB 1.3 MB/s \n",
            "\u001b[?25hRequirement already satisfied: Click>=6.0 in /usr/local/lib/python3.7/dist-packages (from underthesea) (7.1.2)\n",
            "Requirement already satisfied: future in /usr/local/lib/python3.7/dist-packages (from torch<=1.5.1,>=1.1.0->underthesea) (0.16.0)\n",
            "Requirement already satisfied: numpy in /usr/local/lib/python3.7/dist-packages (from torch<=1.5.1,>=1.1.0->underthesea) (1.19.5)\n",
            "Collecting tokenizers==0.9.3\n",
            "  Downloading tokenizers-0.9.3-cp37-cp37m-manylinux1_x86_64.whl (2.9 MB)\n",
            "\u001b[K     |████████████████████████████████| 2.9 MB 38.0 MB/s \n",
            "\u001b[?25hRequirement already satisfied: filelock in /usr/local/lib/python3.7/dist-packages (from transformers<=3.5.1,>=3.5.0->underthesea) (3.0.12)\n",
            "Requirement already satisfied: regex!=2019.12.17 in /usr/local/lib/python3.7/dist-packages (from transformers<=3.5.1,>=3.5.0->underthesea) (2019.12.20)\n",
            "Collecting sentencepiece==0.1.91\n",
            "  Downloading sentencepiece-0.1.91-cp37-cp37m-manylinux1_x86_64.whl (1.1 MB)\n",
            "\u001b[K     |████████████████████████████████| 1.1 MB 41.0 MB/s \n",
            "\u001b[?25hCollecting sacremoses\n",
            "  Downloading sacremoses-0.0.45-py3-none-any.whl (895 kB)\n",
            "\u001b[K     |████████████████████████████████| 895 kB 48.2 MB/s \n",
            "\u001b[?25hRequirement already satisfied: protobuf in /usr/local/lib/python3.7/dist-packages (from transformers<=3.5.1,>=3.5.0->underthesea) (3.17.3)\n",
            "Requirement already satisfied: packaging in /usr/local/lib/python3.7/dist-packages (from transformers<=3.5.1,>=3.5.0->underthesea) (21.0)\n",
            "Requirement already satisfied: six in /usr/local/lib/python3.7/dist-packages (from nltk->underthesea) (1.15.0)\n",
            "Requirement already satisfied: pyparsing>=2.0.2 in /usr/local/lib/python3.7/dist-packages (from packaging->transformers<=3.5.1,>=3.5.0->underthesea) (2.4.7)\n",
            "Requirement already satisfied: idna<3,>=2.5 in /usr/local/lib/python3.7/dist-packages (from requests->underthesea) (2.10)\n",
            "Requirement already satisfied: urllib3!=1.25.0,!=1.25.1,<1.26,>=1.21.1 in /usr/local/lib/python3.7/dist-packages (from requests->underthesea) (1.24.3)\n",
            "Requirement already satisfied: certifi>=2017.4.17 in /usr/local/lib/python3.7/dist-packages (from requests->underthesea) (2021.5.30)\n",
            "Requirement already satisfied: scipy>=0.17.0 in /usr/local/lib/python3.7/dist-packages (from scikit-learn->underthesea) (1.4.1)\n",
            "Building wheels for collected packages: seqeval\n",
            "  Building wheel for seqeval (setup.py) ... \u001b[?25l\u001b[?25hdone\n",
            "  Created wheel for seqeval: filename=seqeval-1.2.2-py3-none-any.whl size=16181 sha256=8a1f799c8acf6d1a58f4bf46ba0b300cd8af878f5c98aa0948554cf32bd4c367\n",
            "  Stored in directory: /root/.cache/pip/wheels/05/96/ee/7cac4e74f3b19e3158dce26a20a1c86b3533c43ec72a549fd7\n",
            "Successfully built seqeval\n",
            "Installing collected packages: tokenizers, sentencepiece, sacremoses, unidecode, transformers, torch, seqeval, python-crfsuite, underthesea\n",
            "  Attempting uninstall: torch\n",
            "    Found existing installation: torch 1.9.0+cu102\n",
            "    Uninstalling torch-1.9.0+cu102:\n",
            "      Successfully uninstalled torch-1.9.0+cu102\n",
            "\u001b[31mERROR: pip's dependency resolver does not currently take into account all the packages that are installed. This behaviour is the source of the following dependency conflicts.\n",
            "torchvision 0.10.0+cu102 requires torch==1.9.0, but you have torch 1.5.1 which is incompatible.\n",
            "torchtext 0.10.0 requires torch==1.9.0, but you have torch 1.5.1 which is incompatible.\u001b[0m\n",
            "Successfully installed python-crfsuite-0.9.7 sacremoses-0.0.45 sentencepiece-0.1.91 seqeval-1.2.2 tokenizers-0.9.3 torch-1.5.1 transformers-3.5.1 underthesea-1.3.2 unidecode-1.2.0\n"
          ],
          "name": "stdout"
        }
      ]
    },
    {
      "cell_type": "code",
      "metadata": {
        "id": "1OQXpa0hwxi7"
      },
      "source": [
        "import pandas as pd\n",
        "import numpy as np\n",
        "import matplotlib.pyplot as plt\n",
        "import re\n",
        "import underthesea\n",
        "from sklearn.model_selection import train_test_split\n",
        "from sklearn.metrics import accuracy_score\n",
        "from sklearn.metrics import f1_score\n",
        "from sklearn.svm import SVC\n",
        "from sklearn.pipeline import Pipeline\n",
        "from sklearn.feature_extraction.text import TfidfVectorizer\n",
        "from sklearn.metrics import classification_report"
      ],
      "execution_count": 2,
      "outputs": []
    },
    {
      "cell_type": "markdown",
      "metadata": {
        "id": "V9-jH_XTxaqb"
      },
      "source": [
        "## Dowload dữ liệu từ git của nhóm"
      ]
    },
    {
      "cell_type": "code",
      "metadata": {
        "colab": {
          "base_uri": "https://localhost:8080/"
        },
        "id": "n1-ehlT4wmho",
        "outputId": "20c59d3e-4c81-4443-db68-421a002999d0"
      },
      "source": [
        "!gdown --id 1zo7CHRR2T4irW-zsl580jcyzuh3HBnNV"
      ],
      "execution_count": 3,
      "outputs": [
        {
          "output_type": "stream",
          "text": [
            "Downloading...\n",
            "From: https://drive.google.com/uc?id=1zo7CHRR2T4irW-zsl580jcyzuh3HBnNV\n",
            "To: /content/CS117_data.csv\n",
            "\r  0% 0.00/1.43M [00:00<?, ?B/s]\r100% 1.43M/1.43M [00:00<00:00, 95.6MB/s]\n"
          ],
          "name": "stdout"
        }
      ]
    },
    {
      "cell_type": "code",
      "metadata": {
        "id": "PZtdy4LIJiXe"
      },
      "source": [
        "dataset=pd.read_csv(\"CS117_data.csv\")"
      ],
      "execution_count": 4,
      "outputs": []
    },
    {
      "cell_type": "code",
      "metadata": {
        "colab": {
          "base_uri": "https://localhost:8080/"
        },
        "id": "pAZMziomGddK",
        "outputId": "117bd87f-2b47-4ca1-818e-c02101fcd85f"
      },
      "source": [
        "dataset[]"
      ],
      "execution_count": 47,
      "outputs": [
        {
          "output_type": "execute_result",
          "data": {
            "text/plain": [
              "0     Thấm nhanh, thơm, còn lại thì phải chờ thời gi...\n",
              "1     Mua tặng bx. Gọn nhẹ, màn oled đẹp, cam đỉnh. ...\n",
              "2          Ốp đẹp lắmmmmmmmmmmmmmmmm ạ.................\n",
              "3     Mình mua ốp trong suốt này của shop mấy lần rồ...\n",
              "4     Đóng gói sản phẩm rất tệ lọ bị chảy ra nhiều.H...\n",
              "5                    không đòi hỏi cao, khá cầu kì, tạm\n",
              "6     Tuyệt vời, máy mướt mườn mượt, sạc nhanh 100% ...\n",
              "7     Sản phẩm khá tốt trong tầm, màn hình ổn với nh...\n",
              "8     Máy rất ok. Màn hình super amoled rất đẹp. Chi...\n",
              "9     Chất lượng sản phẩm tuyệt vời, ốp dùng tiện íc...\n",
              "10    ủng hộ dài dài, nhân viên thế giới di động xin...\n",
              "11    Sau 1 tuần sử dụng thì máy xài ổn . Pin trâu ....\n",
              "12                Đóng gói chắc chắn, giao hàng \\nnhanh\n",
              "13    Shop giao hang nhanh\\nSản phẩm rất chất lượng ...\n",
              "14    Hàng về... ship khá nhanh... thơm lắm... mùi k...\n",
              "15    Giao hàng nhanh đóng gói cẩn thận, chất kuowng...\n",
              "16    Nhân viên tư vấn nhiệt tình.Mới mua xài mấy hô...\n",
              "17    Rất rất tệ,tệ hơn chữ tệ,không có gì tệ bằng.c...\n",
              "18    Son hơi khô mối xíu. Thoa dưỡng môi trước rồi ...\n",
              "19                                           Tuyệt vời \n",
              "Name: text, dtype: object"
            ]
          },
          "metadata": {
            "tags": []
          },
          "execution_count": 47
        }
      ]
    },
    {
      "cell_type": "code",
      "metadata": {
        "colab": {
          "base_uri": "https://localhost:8080/"
        },
        "id": "9I25gwwLZdfc",
        "outputId": "8ee26db7-4659-4410-a590-59dd2228c73c"
      },
      "source": [
        "dataset['label'].value_counts()"
      ],
      "execution_count": 5,
      "outputs": [
        {
          "output_type": "execute_result",
          "data": {
            "text/plain": [
              " 1.0    5538\n",
              " 0.0    1598\n",
              "-1.0    1361\n",
              "Name: label, dtype: int64"
            ]
          },
          "metadata": {
            "tags": []
          },
          "execution_count": 5
        }
      ]
    },
    {
      "cell_type": "code",
      "metadata": {
        "id": "c81uqU_2-6s2"
      },
      "source": [
        "X_data=dataset['text']\n",
        "Y_data=dataset['label']"
      ],
      "execution_count": 6,
      "outputs": []
    },
    {
      "cell_type": "markdown",
      "metadata": {
        "id": "7mXJpA12xfem"
      },
      "source": [
        "##Phân phối các lớp"
      ]
    },
    {
      "cell_type": "code",
      "metadata": {
        "colab": {
          "base_uri": "https://localhost:8080/",
          "height": 350
        },
        "id": "hpht1jHGXFtn",
        "outputId": "2ca68b4d-2e48-48af-b3c4-3a80c1cb03b9"
      },
      "source": [
        "import seaborn as sns\n",
        "sns.set_style(\"dark\")\n",
        "sns.countplot(dataset.label)"
      ],
      "execution_count": 7,
      "outputs": [
        {
          "output_type": "stream",
          "text": [
            "/usr/local/lib/python3.7/dist-packages/seaborn/_decorators.py:43: FutureWarning: Pass the following variable as a keyword arg: x. From version 0.12, the only valid positional argument will be `data`, and passing other arguments without an explicit keyword will result in an error or misinterpretation.\n",
            "  FutureWarning\n"
          ],
          "name": "stderr"
        },
        {
          "output_type": "execute_result",
          "data": {
            "text/plain": [
              "<matplotlib.axes._subplots.AxesSubplot at 0x7f729876e250>"
            ]
          },
          "metadata": {
            "tags": []
          },
          "execution_count": 7
        },
        {
          "output_type": "display_data",
          "data": {
            "image/png": "[encoded data removed]",
            "text/plain": [
              "<Figure size 432x288 with 1 Axes>"
            ]
          },
          "metadata": {
            "tags": []
          }
        }
      ]
    },
    {
      "cell_type": "markdown",
      "metadata": {
        "id": "5p1eZriWXVEN"
      },
      "source": [
        "# Tiền xử lý dữ liệu"
      ]
    },
    {
      "cell_type": "code",
      "metadata": {
        "id": "ZU0JSDLvXPi5"
      },
      "source": [
        "#Đưa về kiểu chữ thường\n",
        "def text_lowercase(text):\n",
        "    return text.lower()"
      ],
      "execution_count": 8,
      "outputs": []
    },
    {
      "cell_type": "code",
      "metadata": {
        "id": "oG6MKkFwXYzv"
      },
      "source": [
        "#Loại bỏ các con số\n",
        "def remove_number(text):\n",
        "    result = re.sub(r'\\d+', '', text) \n",
        "    return result"
      ],
      "execution_count": 9,
      "outputs": []
    },
    {
      "cell_type": "code",
      "metadata": {
        "id": "nux-PAM4XcEz"
      },
      "source": [
        "#Loại bỏ các dấu câu\n",
        "def remove_punctuation(text):\n",
        "    text = text.replace(\",\", \" \").replace(\".\", \" \") \\\n",
        "    .replace(\";\", \" \").replace(\"“\", \" \") \\\n",
        "    .replace(\":\", \" \").replace(\"”\", \" \") \\\n",
        "    .replace('\"', \" \").replace(\"'\", \" \") \\\n",
        "    .replace(\"!\", \" \").replace(\"?\", \" \") \\\n",
        "    .replace(\"-\", \" \").replace(\"?\", \" \")  \n",
        "    return text"
      ],
      "execution_count": 10,
      "outputs": []
    },
    {
      "cell_type": "code",
      "metadata": {
        "id": "gN2rVu8AXdvY"
      },
      "source": [
        "#Loại bỏ khoảng trắng thừa\n",
        "def remove_whitespace(text): \n",
        "    return  \" \".join(text.split())"
      ],
      "execution_count": 12,
      "outputs": []
    },
    {
      "cell_type": "code",
      "metadata": {
        "id": "Vr5t2l9uXgLZ"
      },
      "source": [
        "# Bỏ bớt các chữ cái giống nhau liên tiếp( Vd: quaaa -> qua)\n",
        "def remove_similarletter(text):\n",
        "    text = re.sub(r'([A-Z])\\1+', lambda m: m.group(1).upper(), text, flags=re.IGNORECASE)\n",
        "    return text"
      ],
      "execution_count": 11,
      "outputs": []
    },
    {
      "cell_type": "code",
      "metadata": {
        "id": "oCfh_sSe_qwx"
      },
      "source": [
        "#Tách từ tiếng Việt sử dụng thư viện underthesea có sẵn\n",
        "def VN_Tokenize(text,format='text'):\n",
        "  return underthesea.word_tokenize(text)"
      ],
      "execution_count": 13,
      "outputs": []
    },
    {
      "cell_type": "code",
      "metadata": {
        "id": "JgHJw6mcXkYn",
        "colab": {
          "base_uri": "https://localhost:8080/"
        },
        "outputId": "ea8f526a-6027-4722-a74c-a4a4c3ec4817"
      },
      "source": [
        "\n",
        "!gdown --id 1buHsfg9uC70tuUNe852UBCZxcqFg4re5\n",
        "#tải stopword"
      ],
      "execution_count": 14,
      "outputs": [
        {
          "output_type": "stream",
          "text": [
            "Downloading...\n",
            "From: https://drive.google.com/uc?id=1buHsfg9uC70tuUNe852UBCZxcqFg4re5\n",
            "To: /content/vietnamese-stopwords-dash (1).txt\n",
            "\r  0% 0.00/14.8k [00:00<?, ?B/s]\r100% 14.8k/14.8k [00:00<00:00, 29.9MB/s]\n"
          ],
          "name": "stdout"
        }
      ]
    },
    {
      "cell_type": "code",
      "metadata": {
        "id": "tnJPzRq-Xm8O"
      },
      "source": [
        "#Loại bỏ các stopwords tiếng Việt sử dụng bộ stopwords có sẵn lấy từ\n",
        "def remove_VN_stopwords(text):\n",
        "    file_stopwords = pd.read_csv(\"vietnamese-stopwords-dash (1).txt\", encoding = 'UTF-8')\n",
        "    file_stopwords.columns = [\"Stop_words\"]\n",
        "\n",
        "    VN_stopword = []\n",
        "    for i in file_stopwords[\"Stop_words\"]:\n",
        "        VN_stopword.append(i)\n",
        "        \n",
        "    text_token = VN_Tokenize(text)\n",
        "    result = [word for word in text_token if word not in VN_stopword]\n",
        "    return \" \".join(result)"
      ],
      "execution_count": 15,
      "outputs": []
    },
    {
      "cell_type": "code",
      "metadata": {
        "id": "--os_C8qXowq"
      },
      "source": [
        "#Chuẩn hóa dữ liệu\n",
        "def Util(text):\n",
        "    replace_list = {\n",
        "        'ship': 'vận chuyển', 'shop': 'cửa hàng', 'sho': 'cửa hàng', 'm': 'mình','mk':'mình','mjk':'mình', 'mik': 'mình', 'ko': 'không' , 'k': 'không', 'kh': 'không', 'khong': 'không', 'kg': 'không', 'khg': 'không','hok':'không','hong':'không', 'tl': 'trả lời',\n",
        "        'rep': 'trả lời', 'r': 'rồi', 'fb': 'facebook', 'face': 'faceook', 'thanks': 'cảm ơn', 'thank': 'cảm ơn', 'tks': 'cảm ơn', 'tk': 'cảm ơn', 'ok': 'tốt', 'oki': 'tốt', 'okie': 'tốt', 'sp': 'sản phẩm',\n",
        "        'dc': 'được','đc':'được','dk':'được', 'vs': 'với', 'đt': 'điện thoại', 'thjk': 'thích', 'thik': 'thích', 'qá': 'quá', 'trể': 'trễ', 'bgjo': 'bao giờ', 'h': 'giờ', 'qa': 'quá', 'dep': 'đẹp', 'xau': 'xấu', 'ib': 'nhắn tin',\n",
        "        'cute': 'dễ thương', 'sz': 'size', 'good': 'tốt', 'god': 'tốt', 'bt': 'bình thường','tr':'triệu','dag':'đang','nhiu':'nhiêu','mn':'mọi người','m.n':'mọi người','ac':'anh chị','sag':'sang','s':'sao',\n",
        "        'sz': 'cỡ', 'size': 'cỡ', 'đx': 'được', 'dk': 'được', 'dc': 'được', 'đk': 'được','ae':'anh em','j':'gì','hnay':'hôm nay','lm':'làm','ktra':'kiểm tra','sp':'sản phẩm','zô':'vào',\n",
        "        'đc': 'được', 'authentic': 'chuẩn chính hãng', 'aut': 'chuẩn chính hãng', 'auth ': 'chuẩn chính hãng', 'thick': 'thích','v':'vậy','cng':'cũng','cg':'cũng','ns':'nói','nv':'nhân viên',\n",
        "        'gud': 'tốt', 'god': 'tốt', 'wel done': 'tốt', 'good': 'tốt', 'gút': 'tốt','ng':'người','chs':'chơi','mng':'mọi người','wa':'quá',\n",
        "        'sấu': 'xấu', 'gut': 'tốt', 'tot': 'tốt', 'nice': 'tốt', 'perfect': 'rất tốt','trc':'trước',\n",
        "        'time': 'thời gian', 'qá': 'quá','nc':'nói chung','ace':'anh chị em',\n",
        "        'product': 'sản phẩm', 'quality': 'chất lượng', 'chat': 'chất' , 'excelent': 'hoàn hảo', 'bad': 'tệ', 'sad': 'tệ',\n",
        "        'beautiful': 'đẹp', 'tl': 'trả lời', 'r': 'rồi', 'order': 'đặt hàng',\n",
        "        'chất lg': 'chất lượng', 'sd': 'sử dụng', 'dt': 'điện thoại', 'nt': 'nhắn tin', 'tl': 'trả lời', 'sài': 'xài', 'bjo': 'bao giờ',\n",
        "        'thik': 'thích', 'sop': 'cửa hàng', 'fb': 'facebook', 'face': 'facebook', 'very': 'rất',\n",
        "        'dep': 'đẹp', 'xau': 'xấu','tgdđ':'thế giới di động','tgdd':'thế giới di động','đmx':'điện máy xanh',\n",
        "        'iu': 'yêu', 'fake': 'giả mạo', 'trl': 'trả lời', '><': 'tiêu cực',\n",
        "        'por': 'tệ', 'poor': 'tệ', 'ib': 'nhắn tin', 'rep': 'trả lời', 'fback': 'feedback', 'fedback': 'feedback',\n",
        "        'bin': 'pin', 'cx': 'cũng', 'nch': 'nói chuyện', 'ntn': 'như thế nào', 'vde': 'vấn đề'\n",
        "    }\n",
        "    text = text.split()\n",
        "    len_ = len(text)\n",
        "    for i in range(0, len_):    \n",
        "      for k, v in replace_list.items():\n",
        "        if (text[i]==k):\n",
        "          text[i] = v\n",
        "    return \" \".join(text)"
      ],
      "execution_count": 16,
      "outputs": []
    },
    {
      "cell_type": "code",
      "metadata": {
        "id": "DyGthqgiXqo1"
      },
      "source": [
        "def Text_PreProcessing_noutil(data):\n",
        "  result_1 = []\n",
        "  for i in data:\n",
        "    i = str(i)\n",
        "    text = text_lowercase(i)\n",
        "    text = Util(text)\n",
        "    text = remove_similarletter(text)\n",
        "    text = remove_number(text)\n",
        "    text = remove_punctuation(text)\n",
        "    text = remove_whitespace(text)\n",
        "    text = remove_VN_stopwords(text)\n",
        "    result_1.append(text)\n",
        "  return result_1"
      ],
      "execution_count": 17,
      "outputs": []
    },
    {
      "cell_type": "code",
      "metadata": {
        "id": "UP-lA5mcXsB1"
      },
      "source": [
        "X_data_1 = X_data\n",
        "Y_data_1 = Y_data"
      ],
      "execution_count": 18,
      "outputs": []
    },
    {
      "cell_type": "code",
      "metadata": {
        "colab": {
          "base_uri": "https://localhost:8080/"
        },
        "id": "Kr_BoTbTEPPd",
        "outputId": "bc1f9166-7fb2-4383-9cbc-0051bff97dc2"
      },
      "source": [
        "X_data"
      ],
      "execution_count": 19,
      "outputs": [
        {
          "output_type": "execute_result",
          "data": {
            "text/plain": [
              "0       Thấm nhanh, thơm, còn lại thì phải chờ thời gi...\n",
              "1       Mua tặng bx. Gọn nhẹ, màn oled đẹp, cam đỉnh. ...\n",
              "2            Ốp đẹp lắmmmmmmmmmmmmmmmm ạ.................\n",
              "3       Mình mua ốp trong suốt này của shop mấy lần rồ...\n",
              "4       Đóng gói sản phẩm rất tệ lọ bị chảy ra nhiều.H...\n",
              "                              ...                        \n",
              "8492    Điện thoại mình mua được 1 tuần rồi,thật sự th...\n",
              "8493    Tốt sài ok ,mua tại thế giới d đ gò dầu ,tây n...\n",
              "8494    sản phẩm rất ok và chất lượng giao hàng nhanh ...\n",
              "8495    mình mới mua dc 1 tuần .sáng nay máy báo k có ...\n",
              "8496    Điện thoại sài mượt mà , chụp ảnh đẹp, chơi ga...\n",
              "Name: text, Length: 8497, dtype: object"
            ]
          },
          "metadata": {
            "tags": []
          },
          "execution_count": 19
        }
      ]
    },
    {
      "cell_type": "code",
      "metadata": {
        "id": "H_r9yTo3Xta-"
      },
      "source": [
        "X_data_1 = Text_PreProcessing_noutil(X_data_1)"
      ],
      "execution_count": 20,
      "outputs": []
    },
    {
      "cell_type": "markdown",
      "metadata": {
        "id": "8Ea4ansrXvBu"
      },
      "source": [
        "# Feature Extraction"
      ]
    },
    {
      "cell_type": "code",
      "metadata": {
        "id": "pAsa-s-LXxAk"
      },
      "source": [
        "vectorizer_1 = TfidfVectorizer()\n",
        "vectorizer_1.fit(X_data_1)\n",
        "X_data_tfidf_1 = vectorizer_1.transform(X_data_1).toarray()"
      ],
      "execution_count": 21,
      "outputs": []
    },
    {
      "cell_type": "code",
      "metadata": {
        "colab": {
          "base_uri": "https://localhost:8080/"
        },
        "id": "Hi_ejD40HBml",
        "outputId": "c76e901f-8546-4c67-d155-5994c6fa0f37"
      },
      "source": [
        "print(X_train_1)\n",
        "print(X_data_tfidf_1.shape)"
      ],
      "execution_count": null,
      "outputs": [
        {
          "output_type": "stream",
          "text": [
            "[[0. 0. 0. ... 0. 0. 0.]\n",
            " [0. 0. 0. ... 0. 0. 0.]\n",
            " [0. 0. 0. ... 0. 0. 0.]\n",
            " ...\n",
            " [0. 0. 0. ... 0. 0. 0.]\n",
            " [0. 0. 0. ... 0. 0. 0.]\n",
            " [0. 0. 0. ... 0. 0. 0.]]\n",
            "(8497, 6356)\n"
          ],
          "name": "stdout"
        }
      ]
    },
    {
      "cell_type": "markdown",
      "metadata": {
        "id": "wunnArwwX2Yy"
      },
      "source": [
        "# Phân chia tập train và test"
      ]
    },
    {
      "cell_type": "code",
      "metadata": {
        "id": "3hod0JgFX4lH"
      },
      "source": [
        "X_train_1, X_test_1, Y_train_1, Y_test_1 = train_test_split(X_data_tfidf_1, Y_data_1, test_size=0.3)"
      ],
      "execution_count": 22,
      "outputs": []
    },
    {
      "cell_type": "markdown",
      "metadata": {
        "id": "L3WfIjLfX5bW"
      },
      "source": [
        "# Huấn luyện mô hình và đánh giá kết quả"
      ]
    },
    {
      "cell_type": "code",
      "metadata": {
        "colab": {
          "base_uri": "https://localhost:8080/",
          "height": 391
        },
        "id": "Wq8d9Q2NX9hL",
        "outputId": "76433c93-50dc-44e4-f01e-46a57594f5c2"
      },
      "source": [
        "model_1 = SVC(kernel='linear')\n",
        "model_1.fit(X_train_1, Y_train_1)\n",
        "print(\"Model SVC\")\n",
        "print(\"Train score: \", model_1.score(X_train_1, Y_train_1))\n",
        "print(\"Test score: \", model_1.score(X_test_1, Y_test_1))\n",
        "y_pred_1 = model_1.predict(X_test_1)\n",
        "print(\"F1 score: \",f1_score(Y_test_1, y_pred_1, average = 'macro'))"
      ],
      "execution_count": null,
      "outputs": [
        {
          "output_type": "error",
          "ename": "KeyboardInterrupt",
          "evalue": "ignored",
          "traceback": [
            "\u001b[0;31m---------------------------------------------------------------------------\u001b[0m",
            "\u001b[0;31mKeyboardInterrupt\u001b[0m                         Traceback (most recent call last)",
            "\u001b[0;32m<ipython-input-77-8d1ad234e8a1>\u001b[0m in \u001b[0;36m<module>\u001b[0;34m()\u001b[0m\n\u001b[1;32m      1\u001b[0m \u001b[0mmodel_1\u001b[0m \u001b[0;34m=\u001b[0m \u001b[0mSVC\u001b[0m\u001b[0;34m(\u001b[0m\u001b[0mkernel\u001b[0m\u001b[0;34m=\u001b[0m\u001b[0;34m'linear'\u001b[0m\u001b[0;34m)\u001b[0m\u001b[0;34m\u001b[0m\u001b[0;34m\u001b[0m\u001b[0m\n\u001b[0;32m----> 2\u001b[0;31m \u001b[0mmodel_1\u001b[0m\u001b[0;34m.\u001b[0m\u001b[0mfit\u001b[0m\u001b[0;34m(\u001b[0m\u001b[0mX_train_1\u001b[0m\u001b[0;34m,\u001b[0m \u001b[0mY_train_1\u001b[0m\u001b[0;34m)\u001b[0m\u001b[0;34m\u001b[0m\u001b[0;34m\u001b[0m\u001b[0m\n\u001b[0m\u001b[1;32m      3\u001b[0m \u001b[0mprint\u001b[0m\u001b[0;34m(\u001b[0m\u001b[0;34m\"Model SVC\"\u001b[0m\u001b[0;34m)\u001b[0m\u001b[0;34m\u001b[0m\u001b[0;34m\u001b[0m\u001b[0m\n\u001b[1;32m      4\u001b[0m \u001b[0mprint\u001b[0m\u001b[0;34m(\u001b[0m\u001b[0;34m\"Train score: \"\u001b[0m\u001b[0;34m,\u001b[0m \u001b[0mmodel_1\u001b[0m\u001b[0;34m.\u001b[0m\u001b[0mscore\u001b[0m\u001b[0;34m(\u001b[0m\u001b[0mX_train_1\u001b[0m\u001b[0;34m,\u001b[0m \u001b[0mY_train_1\u001b[0m\u001b[0;34m)\u001b[0m\u001b[0;34m)\u001b[0m\u001b[0;34m\u001b[0m\u001b[0;34m\u001b[0m\u001b[0m\n\u001b[1;32m      5\u001b[0m \u001b[0mprint\u001b[0m\u001b[0;34m(\u001b[0m\u001b[0;34m\"Test score: \"\u001b[0m\u001b[0;34m,\u001b[0m \u001b[0mmodel_1\u001b[0m\u001b[0;34m.\u001b[0m\u001b[0mscore\u001b[0m\u001b[0;34m(\u001b[0m\u001b[0mX_test_1\u001b[0m\u001b[0;34m,\u001b[0m \u001b[0mY_test_1\u001b[0m\u001b[0;34m)\u001b[0m\u001b[0;34m)\u001b[0m\u001b[0;34m\u001b[0m\u001b[0;34m\u001b[0m\u001b[0m\n",
            "\u001b[0;32m/usr/local/lib/python3.7/dist-packages/sklearn/svm/_base.py\u001b[0m in \u001b[0;36mfit\u001b[0;34m(self, X, y, sample_weight)\u001b[0m\n\u001b[1;32m    197\u001b[0m \u001b[0;34m\u001b[0m\u001b[0m\n\u001b[1;32m    198\u001b[0m         \u001b[0mseed\u001b[0m \u001b[0;34m=\u001b[0m \u001b[0mrnd\u001b[0m\u001b[0;34m.\u001b[0m\u001b[0mrandint\u001b[0m\u001b[0;34m(\u001b[0m\u001b[0mnp\u001b[0m\u001b[0;34m.\u001b[0m\u001b[0miinfo\u001b[0m\u001b[0;34m(\u001b[0m\u001b[0;34m'i'\u001b[0m\u001b[0;34m)\u001b[0m\u001b[0;34m.\u001b[0m\u001b[0mmax\u001b[0m\u001b[0;34m)\u001b[0m\u001b[0;34m\u001b[0m\u001b[0;34m\u001b[0m\u001b[0m\n\u001b[0;32m--> 199\u001b[0;31m         \u001b[0mfit\u001b[0m\u001b[0;34m(\u001b[0m\u001b[0mX\u001b[0m\u001b[0;34m,\u001b[0m \u001b[0my\u001b[0m\u001b[0;34m,\u001b[0m \u001b[0msample_weight\u001b[0m\u001b[0;34m,\u001b[0m \u001b[0msolver_type\u001b[0m\u001b[0;34m,\u001b[0m \u001b[0mkernel\u001b[0m\u001b[0;34m,\u001b[0m \u001b[0mrandom_seed\u001b[0m\u001b[0;34m=\u001b[0m\u001b[0mseed\u001b[0m\u001b[0;34m)\u001b[0m\u001b[0;34m\u001b[0m\u001b[0;34m\u001b[0m\u001b[0m\n\u001b[0m\u001b[1;32m    200\u001b[0m         \u001b[0;31m# see comment on the other call to np.iinfo in this file\u001b[0m\u001b[0;34m\u001b[0m\u001b[0;34m\u001b[0m\u001b[0;34m\u001b[0m\u001b[0m\n\u001b[1;32m    201\u001b[0m \u001b[0;34m\u001b[0m\u001b[0m\n",
            "\u001b[0;32m/usr/local/lib/python3.7/dist-packages/sklearn/svm/_base.py\u001b[0m in \u001b[0;36m_dense_fit\u001b[0;34m(self, X, y, sample_weight, solver_type, kernel, random_seed)\u001b[0m\n\u001b[1;32m    256\u001b[0m                 \u001b[0mcache_size\u001b[0m\u001b[0;34m=\u001b[0m\u001b[0mself\u001b[0m\u001b[0;34m.\u001b[0m\u001b[0mcache_size\u001b[0m\u001b[0;34m,\u001b[0m \u001b[0mcoef0\u001b[0m\u001b[0;34m=\u001b[0m\u001b[0mself\u001b[0m\u001b[0;34m.\u001b[0m\u001b[0mcoef0\u001b[0m\u001b[0;34m,\u001b[0m\u001b[0;34m\u001b[0m\u001b[0;34m\u001b[0m\u001b[0m\n\u001b[1;32m    257\u001b[0m                 \u001b[0mgamma\u001b[0m\u001b[0;34m=\u001b[0m\u001b[0mself\u001b[0m\u001b[0;34m.\u001b[0m\u001b[0m_gamma\u001b[0m\u001b[0;34m,\u001b[0m \u001b[0mepsilon\u001b[0m\u001b[0;34m=\u001b[0m\u001b[0mself\u001b[0m\u001b[0;34m.\u001b[0m\u001b[0mepsilon\u001b[0m\u001b[0;34m,\u001b[0m\u001b[0;34m\u001b[0m\u001b[0;34m\u001b[0m\u001b[0m\n\u001b[0;32m--> 258\u001b[0;31m                 max_iter=self.max_iter, random_seed=random_seed)\n\u001b[0m\u001b[1;32m    259\u001b[0m \u001b[0;34m\u001b[0m\u001b[0m\n\u001b[1;32m    260\u001b[0m         \u001b[0mself\u001b[0m\u001b[0;34m.\u001b[0m\u001b[0m_warn_from_fit_status\u001b[0m\u001b[0;34m(\u001b[0m\u001b[0;34m)\u001b[0m\u001b[0;34m\u001b[0m\u001b[0;34m\u001b[0m\u001b[0m\n",
            "\u001b[0;31mKeyboardInterrupt\u001b[0m: "
          ]
        }
      ]
    },
    {
      "cell_type": "code",
      "metadata": {
        "id": "kEQN2nBQYCVX"
      },
      "source": [
        "#đoạn code thể hiện confusion matrix lấy từ : https://datascience.stackexchange.com/questions/40067/confusion-matrix-three-classes-python?fbclid=IwAR2gosLkbym_WUq8o9ZgHmOxzn9nZUUfrHN5cLQxWCvZKq9BDLR_qr_f9qA\n",
        "import matplotlib.pyplot as plt\n",
        "from sklearn.metrics import confusion_matrix\n",
        "\n",
        "def plot_confusion_matrix(cm, classes,\n",
        "                          normalize=False,\n",
        "                          title='Confusion matrix',\n",
        "                          cmap=plt.cm.Blues):\n",
        "    \"\"\"\n",
        "    This function prints and plots the confusion matrix.\n",
        "    Normalization can be applied by setting `normalize=True`.\n",
        "    \"\"\"\n",
        "    import itertools\n",
        "    if normalize:\n",
        "        cm = cm.astype('float') / cm.sum(axis=1)[:, np.newaxis]\n",
        "        print(\"Normalized confusion matrix\")\n",
        "    else:\n",
        "        print('Confusion matrix, without normalization')\n",
        "\n",
        "    print(cm)\n",
        "\n",
        "    plt.imshow(cm, interpolation='nearest', cmap=cmap)\n",
        "    plt.title(title)\n",
        "    plt.colorbar()\n",
        "    tick_marks = np.arange(len(classes))\n",
        "    plt.xticks(tick_marks, classes, rotation=45)\n",
        "    plt.yticks(tick_marks, classes)\n",
        "\n",
        "    fmt = '.2f' if normalize else 'd'\n",
        "    thresh = cm.max() / 2.\n",
        "    for i, j in itertools.product(range(cm.shape[0]), range(cm.shape[1])):\n",
        "        plt.text(j, i, format(cm[i, j], fmt),\n",
        "                 horizontalalignment=\"center\",\n",
        "                 color=\"white\" if cm[i, j] > thresh else \"black\")\n",
        "\n",
        "    plt.ylabel('True label')\n",
        "    plt.xlabel('Predicted label')\n",
        "    plt.tight_layout()\n",
        "  \n"
      ],
      "execution_count": 25,
      "outputs": []
    },
    {
      "cell_type": "code",
      "metadata": {
        "colab": {
          "base_uri": "https://localhost:8080/",
          "height": 229
        },
        "id": "76Eqr3y8DqyM",
        "outputId": "a475ebc6-cbf6-4dfd-8ddd-bb12686501d7"
      },
      "source": [
        "# Plot non-normalized confusion matrix\n",
        "plt.figure()\n",
        "plot_confusion_matrix(cnf_matrix, classes=[-1, 0, 1],\n",
        "                      title='Confusion matrix, without normalization')"
      ],
      "execution_count": 23,
      "outputs": [
        {
          "output_type": "error",
          "ename": "NameError",
          "evalue": "ignored",
          "traceback": [
            "\u001b[0;31m---------------------------------------------------------------------------\u001b[0m",
            "\u001b[0;31mNameError\u001b[0m                                 Traceback (most recent call last)",
            "\u001b[0;32m<ipython-input-23-400f9ec693bd>\u001b[0m in \u001b[0;36m<module>\u001b[0;34m()\u001b[0m\n\u001b[1;32m      1\u001b[0m \u001b[0;31m# Plot non-normalized confusion matrix\u001b[0m\u001b[0;34m\u001b[0m\u001b[0;34m\u001b[0m\u001b[0;34m\u001b[0m\u001b[0m\n\u001b[1;32m      2\u001b[0m \u001b[0mplt\u001b[0m\u001b[0;34m.\u001b[0m\u001b[0mfigure\u001b[0m\u001b[0;34m(\u001b[0m\u001b[0;34m)\u001b[0m\u001b[0;34m\u001b[0m\u001b[0;34m\u001b[0m\u001b[0m\n\u001b[0;32m----> 3\u001b[0;31m plot_confusion_matrix(cnf_matrix, classes=[-1, 0, 1],\n\u001b[0m\u001b[1;32m      4\u001b[0m                       title='Confusion matrix, without normalization')\n",
            "\u001b[0;31mNameError\u001b[0m: name 'plot_confusion_matrix' is not defined"
          ]
        },
        {
          "output_type": "display_data",
          "data": {
            "text/plain": [
              "<Figure size 432x288 with 0 Axes>"
            ]
          },
          "metadata": {
            "tags": []
          }
        }
      ]
    },
    {
      "cell_type": "code",
      "metadata": {
        "colab": {
          "base_uri": "https://localhost:8080/",
          "height": 180
        },
        "id": "iL6Ih88tYEo0",
        "outputId": "0eb09003-eaf6-4f0a-da5a-d3a628470063"
      },
      "source": [
        "\n",
        "print(classification_report(Y_test_1, y_pred_1, target_names=['-1', '0', '1']))"
      ],
      "execution_count": null,
      "outputs": [
        {
          "output_type": "error",
          "ename": "NameError",
          "evalue": "ignored",
          "traceback": [
            "\u001b[0;31m---------------------------------------------------------------------------\u001b[0m",
            "\u001b[0;31mNameError\u001b[0m                                 Traceback (most recent call last)",
            "\u001b[0;32m<ipython-input-81-b20abc88d6aa>\u001b[0m in \u001b[0;36m<module>\u001b[0;34m()\u001b[0m\n\u001b[1;32m      1\u001b[0m \u001b[0;32mfrom\u001b[0m \u001b[0msklearn\u001b[0m\u001b[0;34m.\u001b[0m\u001b[0mmetrics\u001b[0m \u001b[0;32mimport\u001b[0m \u001b[0mclassification_report\u001b[0m\u001b[0;34m\u001b[0m\u001b[0;34m\u001b[0m\u001b[0m\n\u001b[0;32m----> 2\u001b[0;31m \u001b[0mprint\u001b[0m\u001b[0;34m(\u001b[0m\u001b[0mclassification_report\u001b[0m\u001b[0;34m(\u001b[0m\u001b[0mY_test_1\u001b[0m\u001b[0;34m,\u001b[0m \u001b[0my_pred_1\u001b[0m\u001b[0;34m,\u001b[0m \u001b[0mtarget_names\u001b[0m\u001b[0;34m=\u001b[0m\u001b[0;34m[\u001b[0m\u001b[0;34m'-1'\u001b[0m\u001b[0;34m,\u001b[0m \u001b[0;34m'0'\u001b[0m\u001b[0;34m,\u001b[0m \u001b[0;34m'1'\u001b[0m\u001b[0;34m]\u001b[0m\u001b[0;34m)\u001b[0m\u001b[0;34m)\u001b[0m\u001b[0;34m\u001b[0m\u001b[0;34m\u001b[0m\u001b[0m\n\u001b[0m",
            "\u001b[0;31mNameError\u001b[0m: name 'y_pred_1' is not defined"
          ]
        }
      ]
    },
    {
      "cell_type": "code",
      "metadata": {
        "id": "6xMVso9oYHGs"
      },
      "source": [
        "from sklearn.naive_bayes import MultinomialNB\n",
        "from sklearn.ensemble import RandomForestClassifier\n",
        "from sklearn.linear_model import LogisticRegression\n",
        "from sklearn.svm import LinearSVC"
      ],
      "execution_count": 26,
      "outputs": []
    },
    {
      "cell_type": "code",
      "metadata": {
        "colab": {
          "base_uri": "https://localhost:8080/"
        },
        "id": "f_eNDHknYIzG",
        "outputId": "d05c90aa-42eb-497b-b097-1e0e9a7112a6"
      },
      "source": [
        "modelnb = MultinomialNB()\n",
        "modelnb.fit(X_train_1, Y_train_1)\n",
        "print(\"Model MultinomialNB\")\n",
        "print(\"Train score: \", modelnb.score(X_train_1, Y_train_1))\n",
        "print(\"Test score: \", modelnb.score(X_test_1, Y_test_1))\n",
        "y_pred_nb = modelnb.predict(X_test_1)\n",
        "print(\"F1 score: \",f1_score(Y_test_1, y_pred_nb, average = 'macro'))"
      ],
      "execution_count": 27,
      "outputs": [
        {
          "output_type": "stream",
          "text": [
            "Model MultinomialNB\n",
            "Train score:  0.7918278123423574\n",
            "Test score:  0.7537254901960785\n",
            "F1 score:  0.5945143657560341\n"
          ],
          "name": "stdout"
        }
      ]
    },
    {
      "cell_type": "code",
      "metadata": {
        "colab": {
          "base_uri": "https://localhost:8080/",
          "height": 532
        },
        "id": "gxrX3Tb2YKX2",
        "outputId": "ad4e4f9f-98eb-46e3-ee57-eb8fa8b1bc32"
      },
      "source": [
        "cnf_matrix_nb = confusion_matrix(Y_test_1, y_pred_nb, labels=[-1, 0, 1])\n",
        "np.set_printoptions(precision=2)\n",
        "plt.figure()\n",
        "plot_confusion_matrix(cnf_matrix_nb, classes=[-1, 0, 1],\n",
        "                      title='Confusion matrix, without normalization')\n",
        "print(classification_report(Y_test_1, y_pred_nb, target_names=['-1', '0', '1']))"
      ],
      "execution_count": 28,
      "outputs": [
        {
          "output_type": "stream",
          "text": [
            "Confusion matrix, without normalization\n",
            "[[ 195   29  182]\n",
            " [  28  103  360]\n",
            " [   6   23 1624]]\n",
            "              precision    recall  f1-score   support\n",
            "\n",
            "          -1       0.85      0.48      0.61       406\n",
            "           0       0.66      0.21      0.32       491\n",
            "           1       0.75      0.98      0.85      1653\n",
            "\n",
            "    accuracy                           0.75      2550\n",
            "   macro avg       0.76      0.56      0.59      2550\n",
            "weighted avg       0.75      0.75      0.71      2550\n",
            "\n"
          ],
          "name": "stdout"
        },
        {
          "output_type": "display_data",
          "data": {
            "image/png": "[encoded data removed]",
            "text/plain": [
              "<Figure size 432x288 with 2 Axes>"
            ]
          },
          "metadata": {
            "tags": []
          }
        }
      ]
    },
    {
      "cell_type": "code",
      "metadata": {
        "colab": {
          "base_uri": "https://localhost:8080/"
        },
        "id": "AG7nKHoPYOAz",
        "outputId": "8c58c451-657b-487b-eade-374a485e6291"
      },
      "source": [
        "modellr = LogisticRegression()\n",
        "modellr.fit(X_train_1, Y_train_1)\n",
        "print(\"Model LogisticRegression\")\n",
        "print(\"Train score: \", modellr.score(X_train_1, Y_train_1))\n",
        "print(\"Test score: \", modellr.score(X_test_1, Y_test_1))\n",
        "y_pred_lr = modellr.predict(X_test_1)\n",
        "print(\"F1 score: \",f1_score(Y_test_1, y_pred_lr, average = 'macro'))"
      ],
      "execution_count": 29,
      "outputs": [
        {
          "output_type": "stream",
          "text": [
            "Model LogisticRegression\n",
            "Train score:  0.8780897931730284\n",
            "Test score:  0.7984313725490196\n",
            "F1 score:  0.7016780784343748\n"
          ],
          "name": "stdout"
        }
      ]
    },
    {
      "cell_type": "code",
      "metadata": {
        "id": "NmEKaueuYPk_"
      },
      "source": [
        "cnf_matrix_lr = confusion_matrix(Y_test_1, y_pred_lr, labels=[-1, 0, 1])\n",
        "np.set_printoptions(precision=2)\n",
        "plt.figure()\n",
        "plot_confusion_matrix(cnf_matrix_lr, classes=[-1, 0, 1],\n",
        "                      title='Confusion matrix, without normalization')"
      ],
      "execution_count": null,
      "outputs": []
    },
    {
      "cell_type": "code",
      "metadata": {
        "id": "fsKr0p7JYRn4"
      },
      "source": [
        "print(classification_report(Y_test_1, y_pred_lr, target_names=['-1', '0', '1']))"
      ],
      "execution_count": null,
      "outputs": []
    },
    {
      "cell_type": "code",
      "metadata": {
        "id": "0Vi7wtP2YTGG"
      },
      "source": [
        "modelrdf = RandomForestClassifier(n_estimators=10)\n",
        "modelrdf.fit(X_train_1, Y_train_1)\n",
        "print(\"Model RandomForestClassifier\")\n",
        "print(\"Train score: \", modelrdf.score(X_train_1, Y_train_1))\n",
        "print(\"Test score: \", modelrdf.score(X_test_1, Y_test_1))\n",
        "y_pred_rdf = modelrdf.predict(X_test_1)\n",
        "print(\"F1 score: \",f1_score(Y_test_1, y_pred_rdf, average = 'macro'))"
      ],
      "execution_count": null,
      "outputs": []
    },
    {
      "cell_type": "code",
      "metadata": {
        "id": "hQymEscdYUx0"
      },
      "source": [
        "cnf_matrix_rdf = confusion_matrix(Y_test_1, y_pred_rdf, labels=[-1, 0, 1])\n",
        "np.set_printoptions(precision=2)\n",
        "plt.figure()\n",
        "plot_confusion_matrix(cnf_matrix_rdf, classes=[-1, 0, 1],\n",
        "                      title='Confusion matrix, without normalization')"
      ],
      "execution_count": null,
      "outputs": []
    },
    {
      "cell_type": "code",
      "metadata": {
        "id": "3-f8NU0xYWq5"
      },
      "source": [
        "print(classification_report(Y_test_1, y_pred_rdf, target_names=['-1', '0', '1']))"
      ],
      "execution_count": null,
      "outputs": []
    },
    {
      "cell_type": "markdown",
      "metadata": {
        "id": "j9FHTNgv_2gN"
      },
      "source": [
        "# Dự đoán kết quả"
      ]
    },
    {
      "cell_type": "code",
      "metadata": {
        "colab": {
          "base_uri": "https://localhost:8080/"
        },
        "id": "AGAzwjHR-fhQ",
        "outputId": "93d6bb6b-a9ee-49db-fe07-bd14a642b7bf"
      },
      "source": [
        "import joblib\n",
        "joblib.dump(vectorizer_1, 'tf_idf.pkl')\n",
        "#joblib.dump(modellr, \"bestmodel.pkl\")"
      ],
      "execution_count": 33,
      "outputs": [
        {
          "output_type": "execute_result",
          "data": {
            "text/plain": [
              "['tf_idf.pkl']"
            ]
          },
          "metadata": {
            "tags": []
          },
          "execution_count": 33
        }
      ]
    },
    {
      "cell_type": "code",
      "metadata": {
        "colab": {
          "base_uri": "https://localhost:8080/"
        },
        "id": "gGW9R_0dDXCK",
        "outputId": "b6559873-2da7-4331-b7e5-4fd1b02c4b7d"
      },
      "source": [
        "model_1"
      ],
      "execution_count": null,
      "outputs": [
        {
          "output_type": "execute_result",
          "data": {
            "text/plain": [
              "SVC(C=1.0, break_ties=False, cache_size=200, class_weight=None, coef0=0.0,\n",
              "    decision_function_shape='ovr', degree=3, gamma='scale', kernel='linear',\n",
              "    max_iter=-1, probability=False, random_state=None, shrinking=True,\n",
              "    tol=0.001, verbose=False)"
            ]
          },
          "metadata": {
            "tags": []
          },
          "execution_count": 94
        }
      ]
    },
    {
      "cell_type": "code",
      "metadata": {
        "colab": {
          "base_uri": "https://localhost:8080/"
        },
        "id": "Jre412ZCErsL",
        "outputId": "4afa4d65-7c1f-436e-9bb6-3a8be0acd549"
      },
      "source": [
        "!pip install pyvi"
      ],
      "execution_count": 35,
      "outputs": [
        {
          "output_type": "stream",
          "text": [
            "Collecting pyvi\n",
            "  Downloading pyvi-0.1.1-py2.py3-none-any.whl (8.5 MB)\n",
            "\u001b[K     |████████████████████████████████| 8.5 MB 4.5 MB/s \n",
            "\u001b[?25hRequirement already satisfied: scikit-learn in /usr/local/lib/python3.7/dist-packages (from pyvi) (0.22.2.post1)\n",
            "Collecting sklearn-crfsuite\n",
            "  Downloading sklearn_crfsuite-0.3.6-py2.py3-none-any.whl (12 kB)\n",
            "Requirement already satisfied: numpy>=1.11.0 in /usr/local/lib/python3.7/dist-packages (from scikit-learn->pyvi) (1.19.5)\n",
            "Requirement already satisfied: scipy>=0.17.0 in /usr/local/lib/python3.7/dist-packages (from scikit-learn->pyvi) (1.4.1)\n",
            "Requirement already satisfied: joblib>=0.11 in /usr/local/lib/python3.7/dist-packages (from scikit-learn->pyvi) (1.0.1)\n",
            "Requirement already satisfied: python-crfsuite>=0.8.3 in /usr/local/lib/python3.7/dist-packages (from sklearn-crfsuite->pyvi) (0.9.7)\n",
            "Requirement already satisfied: tqdm>=2.0 in /usr/local/lib/python3.7/dist-packages (from sklearn-crfsuite->pyvi) (4.62.0)\n",
            "Requirement already satisfied: six in /usr/local/lib/python3.7/dist-packages (from sklearn-crfsuite->pyvi) (1.15.0)\n",
            "Requirement already satisfied: tabulate in /usr/local/lib/python3.7/dist-packages (from sklearn-crfsuite->pyvi) (0.8.9)\n",
            "Installing collected packages: sklearn-crfsuite, pyvi\n",
            "Successfully installed pyvi-0.1.1 sklearn-crfsuite-0.3.6\n"
          ],
          "name": "stdout"
        }
      ]
    },
    {
      "cell_type": "code",
      "metadata": {
        "id": "CGUrLcL39H-j"
      },
      "source": [
        "#!wget https://github.com/ThuanPhong0126/CS114.K21/blob/master/Project/tfidf_pyvi.pkl?raw=true\n",
        "# !wget https://github.com/ThuanPhong0126/CS114.K21/blob/master/Project/model_SVC.sav?raw=true\n",
        "\n",
        "#!pip install pyvi\n",
        "import joblib\n",
        "import pandas as pd\n",
        "from pyvi import ViTokenizer\n",
        "\n",
        "def Token(t):\n",
        "  return ViTokenizer.tokenize(t)\n",
        "\n",
        "def standardize_data(t):\n",
        "\n",
        "  t = t.lower()\n",
        "  t = t.replace(',', ' ').replace('.', ' ')\\\n",
        "      .replace(\";\", \" \").replace(\"“\", \" \") \\\n",
        "      .replace(\":\", \" \").replace(\"”\", \" \") \\\n",
        "      .replace('\"', \" \").replace(\"'\", \" \") \\\n",
        "      .replace(\"!\", \" \").replace(\"?\", \" \").replace(\"-\", \" \").replace(\"?\", \" \") \n",
        "  t = t.strip()\n",
        "  return t\n",
        "\n",
        "def du_doan(comment):\n",
        "  emb_loaded=joblib.load('tf_idf.pkl')\n",
        "  model_loaded=joblib.load('bestmodel.pkl')\n",
        "  comment=comment.strip()\n",
        "  print(comment)\n",
        "  feature=pd.Series(comment.split('.'))\n",
        "  comment=feature\n",
        "  feature = feature.apply(standardize_data)\n",
        "  feature=emb_loaded.transform(feature).toarray()\n",
        "  #print(feature.shape)\n",
        "  predict=model_loaded.predict(feature)\n",
        "  \n",
        "  if predict==1:\n",
        "      return (\"Bình luận tốt về sản phẩm\")\n",
        "  if predict==0:\n",
        "      return (\"Bình luận không liên quan hoặc trung tính về sản phẩm\")\n",
        "  if predict==-1:\n",
        "      return (\"Bình luận kém về sản phẩm\")\n",
        "  "
      ],
      "execution_count": 83,
      "outputs": []
    },
    {
      "cell_type": "code",
      "metadata": {
        "colab": {
          "base_uri": "https://localhost:8080/"
        },
        "id": "0XaEdXsZKfG0",
        "outputId": "d1165cb2-1642-43b3-e0d7-651724ab2008"
      },
      "source": [
        "!pip install gradio"
      ],
      "execution_count": 78,
      "outputs": [
        {
          "output_type": "stream",
          "text": [
            "Collecting gradio\n",
            "  Downloading gradio-2.2.12-py3-none-any.whl (3.4 MB)\n",
            "\u001b[K     |████████████████████████████████| 3.4 MB 5.0 MB/s \n",
            "\u001b[?25hCollecting paramiko\n",
            "  Downloading paramiko-2.7.2-py2.py3-none-any.whl (206 kB)\n",
            "\u001b[K     |████████████████████████████████| 206 kB 44.8 MB/s \n",
            "\u001b[?25hRequirement already satisfied: pillow in /usr/local/lib/python3.7/dist-packages (from gradio) (7.1.2)\n",
            "Collecting analytics-python\n",
            "  Downloading analytics_python-1.4.0-py2.py3-none-any.whl (15 kB)\n",
            "Collecting Flask-Login\n",
            "  Downloading Flask_Login-0.5.0-py2.py3-none-any.whl (16 kB)\n",
            "Requirement already satisfied: requests in /usr/local/lib/python3.7/dist-packages (from gradio) (2.23.0)\n",
            "Requirement already satisfied: numpy in /usr/local/lib/python3.7/dist-packages (from gradio) (1.19.5)\n",
            "Requirement already satisfied: pandas in /usr/local/lib/python3.7/dist-packages (from gradio) (1.1.5)\n",
            "Collecting ffmpy\n",
            "  Downloading ffmpy-0.3.0.tar.gz (4.8 kB)\n",
            "Collecting flask-cachebuster\n",
            "  Downloading Flask-CacheBuster-1.0.0.tar.gz (3.1 kB)\n",
            "Collecting markdown2\n",
            "  Downloading markdown2-2.4.1-py2.py3-none-any.whl (34 kB)\n",
            "Requirement already satisfied: scipy in /usr/local/lib/python3.7/dist-packages (from gradio) (1.4.1)\n",
            "Collecting Flask-Cors>=3.0.8\n",
            "  Downloading Flask_Cors-3.0.10-py2.py3-none-any.whl (14 kB)\n",
            "Requirement already satisfied: Flask>=1.1.1 in /usr/local/lib/python3.7/dist-packages (from gradio) (1.1.4)\n",
            "Requirement already satisfied: matplotlib in /usr/local/lib/python3.7/dist-packages (from gradio) (3.2.2)\n",
            "Collecting pycryptodome\n",
            "  Downloading pycryptodome-3.10.1-cp35-abi3-manylinux2010_x86_64.whl (1.9 MB)\n",
            "\u001b[K     |████████████████████████████████| 1.9 MB 36.4 MB/s \n",
            "\u001b[?25hRequirement already satisfied: Werkzeug<2.0,>=0.15 in /usr/local/lib/python3.7/dist-packages (from Flask>=1.1.1->gradio) (1.0.1)\n",
            "Requirement already satisfied: Jinja2<3.0,>=2.10.1 in /usr/local/lib/python3.7/dist-packages (from Flask>=1.1.1->gradio) (2.11.3)\n",
            "Requirement already satisfied: itsdangerous<2.0,>=0.24 in /usr/local/lib/python3.7/dist-packages (from Flask>=1.1.1->gradio) (1.1.0)\n",
            "Requirement already satisfied: click<8.0,>=5.1 in /usr/local/lib/python3.7/dist-packages (from Flask>=1.1.1->gradio) (7.1.2)\n",
            "Requirement already satisfied: Six in /usr/local/lib/python3.7/dist-packages (from Flask-Cors>=3.0.8->gradio) (1.15.0)\n",
            "Requirement already satisfied: MarkupSafe>=0.23 in /usr/local/lib/python3.7/dist-packages (from Jinja2<3.0,>=2.10.1->Flask>=1.1.1->gradio) (2.0.1)\n",
            "Collecting monotonic>=1.5\n",
            "  Downloading monotonic-1.6-py2.py3-none-any.whl (8.2 kB)\n",
            "Requirement already satisfied: python-dateutil>2.1 in /usr/local/lib/python3.7/dist-packages (from analytics-python->gradio) (2.8.2)\n",
            "Collecting backoff==1.10.0\n",
            "  Downloading backoff-1.10.0-py2.py3-none-any.whl (31 kB)\n",
            "Requirement already satisfied: chardet<4,>=3.0.2 in /usr/local/lib/python3.7/dist-packages (from requests->gradio) (3.0.4)\n",
            "Requirement already satisfied: urllib3!=1.25.0,!=1.25.1,<1.26,>=1.21.1 in /usr/local/lib/python3.7/dist-packages (from requests->gradio) (1.24.3)\n",
            "Requirement already satisfied: idna<3,>=2.5 in /usr/local/lib/python3.7/dist-packages (from requests->gradio) (2.10)\n",
            "Requirement already satisfied: certifi>=2017.4.17 in /usr/local/lib/python3.7/dist-packages (from requests->gradio) (2021.5.30)\n",
            "Requirement already satisfied: pyparsing!=2.0.4,!=2.1.2,!=2.1.6,>=2.0.1 in /usr/local/lib/python3.7/dist-packages (from matplotlib->gradio) (2.4.7)\n",
            "Requirement already satisfied: kiwisolver>=1.0.1 in /usr/local/lib/python3.7/dist-packages (from matplotlib->gradio) (1.3.1)\n",
            "Requirement already satisfied: cycler>=0.10 in /usr/local/lib/python3.7/dist-packages (from matplotlib->gradio) (0.10.0)\n",
            "Requirement already satisfied: pytz>=2017.2 in /usr/local/lib/python3.7/dist-packages (from pandas->gradio) (2018.9)\n",
            "Collecting cryptography>=2.5\n",
            "  Downloading cryptography-3.4.7-cp36-abi3-manylinux2014_x86_64.whl (3.2 MB)\n",
            "\u001b[K     |████████████████████████████████| 3.2 MB 34.0 MB/s \n",
            "\u001b[?25hCollecting pynacl>=1.0.1\n",
            "  Downloading PyNaCl-1.4.0-cp35-abi3-manylinux1_x86_64.whl (961 kB)\n",
            "\u001b[K     |████████████████████████████████| 961 kB 17.9 MB/s \n",
            "\u001b[?25hCollecting bcrypt>=3.1.3\n",
            "  Downloading bcrypt-3.2.0-cp36-abi3-manylinux2010_x86_64.whl (63 kB)\n",
            "\u001b[K     |████████████████████████████████| 63 kB 1.5 MB/s \n",
            "\u001b[?25hRequirement already satisfied: cffi>=1.1 in /usr/local/lib/python3.7/dist-packages (from bcrypt>=3.1.3->paramiko->gradio) (1.14.6)\n",
            "Requirement already satisfied: pycparser in /usr/local/lib/python3.7/dist-packages (from cffi>=1.1->bcrypt>=3.1.3->paramiko->gradio) (2.20)\n",
            "Building wheels for collected packages: ffmpy, flask-cachebuster\n",
            "  Building wheel for ffmpy (setup.py) ... \u001b[?25l\u001b[?25hdone\n",
            "  Created wheel for ffmpy: filename=ffmpy-0.3.0-py3-none-any.whl size=4710 sha256=735872d93cf58850dc8ea0da0c177bf859f64572a5ab88da2e5ab397b17a4c10\n",
            "  Stored in directory: /root/.cache/pip/wheels/13/e4/6c/e8059816e86796a597c6e6b0d4c880630f51a1fcfa0befd5e6\n",
            "  Building wheel for flask-cachebuster (setup.py) ... \u001b[?25l\u001b[?25hdone\n",
            "  Created wheel for flask-cachebuster: filename=Flask_CacheBuster-1.0.0-py3-none-any.whl size=3371 sha256=71744337dc5cd62a25988bff18fcdf2553768e24e1750a46bc35225aec997acd\n",
            "  Stored in directory: /root/.cache/pip/wheels/28/c0/c4/44687421dab41455be93112bd1b0dee1f3c5a9aa27bee63708\n",
            "Successfully built ffmpy flask-cachebuster\n",
            "Installing collected packages: pynacl, monotonic, cryptography, bcrypt, backoff, pycryptodome, paramiko, markdown2, Flask-Login, Flask-Cors, flask-cachebuster, ffmpy, analytics-python, gradio\n",
            "Successfully installed Flask-Cors-3.0.10 Flask-Login-0.5.0 analytics-python-1.4.0 backoff-1.10.0 bcrypt-3.2.0 cryptography-3.4.7 ffmpy-0.3.0 flask-cachebuster-1.0.0 gradio-2.2.12 markdown2-2.4.1 monotonic-1.6 paramiko-2.7.2 pycryptodome-3.10.1 pynacl-1.4.0\n"
          ],
          "name": "stdout"
        }
      ]
    },
    {
      "cell_type": "code",
      "metadata": {
        "id": "mxrI0PgaKeRd"
      },
      "source": [
        "import gradio as gr"
      ],
      "execution_count": 84,
      "outputs": []
    },
    {
      "cell_type": "code",
      "metadata": {
        "id": "uchN-sl49tWN"
      },
      "source": [
        "\n",
        "# Define Gradio interface\n",
        "gradio_ui = gr.Interface(\n",
        "    fn=du_doan,\n",
        "    title=\"Phân tích cảm xúc bình luận sản phẩm\",\n",
        "    description=\"Nhập câu bình luận về sản phâm\",\n",
        "    inputs=gr.inputs.Textbox(lines=1, label=\"Paste tweet text here\"),\n",
        "    outputs=gr.outputs.Textbox(label=\"Chất lượng sản phẩm\"),\n",
        ")"
      ],
      "execution_count": 88,
      "outputs": []
    },
    {
      "cell_type": "code",
      "metadata": {
        "colab": {
          "base_uri": "https://localhost:8080/",
          "height": 638
        },
        "id": "nr2R9Z-lKplp",
        "outputId": "91898846-da9a-4aac-c514-1ddfce8e8396"
      },
      "source": [
        "gradio_ui.launch()"
      ],
      "execution_count": 90,
      "outputs": [
        {
          "output_type": "stream",
          "text": [
            "Colab notebook detected. To show errors in colab notebook, set `debug=True` in `launch()`\n",
            "This share link will expire in 24 hours. If you need a permanent link, visit: https://gradio.app/introducing-hosted (NEW!)\n",
            "Running on External URL: https://30680.gradio.app\n",
            "Interface loading below...\n"
          ],
          "name": "stdout"
        },
        {
          "output_type": "display_data",
          "data": {
            "text/html": [
              "\n",
              "        <iframe\n",
              "            width=\"900\"\n",
              "            height=\"500\"\n",
              "            src=\"https://30680.gradio.app\"\n",
              "            frameborder=\"0\"\n",
              "            allowfullscreen\n",
              "        ></iframe>\n",
              "        "
            ],
            "text/plain": [
              "<IPython.lib.display.IFrame at 0x7f7285c129d0>"
            ]
          },
          "metadata": {
            "tags": []
          }
        },
        {
          "output_type": "execute_result",
          "data": {
            "text/plain": [
              "(<Flask 'gradio.networking'>,\n",
              " 'http://127.0.0.1:7863/',\n",
              " 'https://30680.gradio.app')"
            ]
          },
          "metadata": {
            "tags": []
          },
          "execution_count": 90
        }
      ]
    }
  ]
}