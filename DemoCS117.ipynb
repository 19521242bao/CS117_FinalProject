{
  "nbformat": 4,
  "nbformat_minor": 0,
  "metadata": {
    "colab": {
      "name": "DemoCS117.ipynb",
      "provenance": [],
      "collapsed_sections": [],
      "authorship_tag": "ABX9TyOmZ8RNwOaXxhcI4t0Ze4yQ",
      "include_colab_link": true
    },
    "kernelspec": {
      "name": "python3",
      "display_name": "Python 3"
    },
    "language_info": {
      "name": "python"
    }
  },
  "cells": [
    {
      "cell_type": "markdown",
      "metadata": {
        "id": "view-in-github",
        "colab_type": "text"
      },
      "source": [
        "<a href=\"https://colab.research.google.com/github/19521242bao/CS117_FinalProject/blob/main/DemoCS117.ipynb\" target=\"_parent\"><img src=\"https://colab.research.google.com/assets/colab-badge.svg\" alt=\"Open In Colab\"/></a>"
      ]
    },
    {
      "cell_type": "markdown",
      "metadata": {
        "id": "5HvGSd5JO96h"
      },
      "source": [
        "# Cài đặt và setup các thư viện cần thiết cho ứng dụng"
      ]
    },
    {
      "cell_type": "code",
      "metadata": {
        "id": "ET6GX2CNPFiY"
      },
      "source": [
        "!pip install underthesea\n",
        "!pip install gradio\n",
        "!pip install pyvi"
      ],
      "execution_count": null,
      "outputs": []
    },
    {
      "cell_type": "code",
      "metadata": {
        "colab": {
          "base_uri": "https://localhost:8080/"
        },
        "id": "k5i7TEyZ3fvB",
        "outputId": "564a7e28-54c8-4eca-806e-e1f69e1299e8"
      },
      "source": [
        "!git clone https://github.com/19521242bao/CS117_FinalProject.git"
      ],
      "execution_count": null,
      "outputs": [
        {
          "output_type": "stream",
          "text": [
            "Cloning into 'CS117_FinalProject'...\n",
            "remote: Enumerating objects: 33, done.\u001b[K\n",
            "remote: Counting objects: 100% (33/33), done.\u001b[K\n",
            "remote: Compressing objects: 100% (31/31), done.\u001b[K\n",
            "remote: Total 33 (delta 8), reused 6 (delta 1), pack-reused 0\u001b[K\n",
            "Unpacking objects: 100% (33/33), done.\n"
          ],
          "name": "stdout"
        }
      ]
    },
    {
      "cell_type": "code",
      "metadata": {
        "colab": {
          "base_uri": "https://localhost:8080/"
        },
        "id": "jXJkeSQQ4PGp",
        "outputId": "e53cb16a-ea7f-4b97-f3b2-4fc5bc3abe0f"
      },
      "source": [
        "%cd CS117_FinalProject"
      ],
      "execution_count": null,
      "outputs": [
        {
          "output_type": "stream",
          "text": [
            "/content/CS117_FinalProject/CS117_FinalProject\n"
          ],
          "name": "stdout"
        }
      ]
    },
    {
      "cell_type": "code",
      "metadata": {
        "colab": {
          "base_uri": "https://localhost:8080/"
        },
        "id": "IF9j1hhBGat1",
        "outputId": "50ccf179-4ee5-4f07-f0e2-a777246d3655"
      },
      "source": [
        "!gdown --id 181Tw_gomgZP2xdv83vxo3wktu52meUQx"
      ],
      "execution_count": null,
      "outputs": [
        {
          "output_type": "stream",
          "text": [
            "Downloading...\n",
            "From: https://drive.google.com/uc?id=181Tw_gomgZP2xdv83vxo3wktu52meUQx\n",
            "To: /content/CS117_FinalProject/CS117_FinalProject/modelsvm.pkl\n",
            "160MB [00:00, 191MB/s]\n"
          ],
          "name": "stdout"
        }
      ]
    },
    {
      "cell_type": "markdown",
      "metadata": {
        "id": "P3niPCrxPIMa"
      },
      "source": [
        "# Dự đoán thử một số câu"
      ]
    },
    {
      "cell_type": "code",
      "metadata": {
        "id": "EUKoma6xx-Sy"
      },
      "source": [
        "import joblib\n",
        "import pandas as pd\n",
        "from pyvi import ViTokenizer\n",
        "import pandas as pd\n",
        "import numpy as np\n",
        "import matplotlib.pyplot as plt\n",
        "import re\n",
        "import underthesea\n",
        "from sklearn.model_selection import train_test_split\n",
        "from sklearn.metrics import accuracy_score\n",
        "from sklearn.metrics import f1_score\n",
        "from sklearn.svm import SVC\n",
        "from sklearn.pipeline import Pipeline\n",
        "from sklearn.feature_extraction.text import TfidfVectorizer\n",
        "from sklearn.metrics import classification_report\n",
        "import joblib\n",
        "from sklearn.tree import DecisionTreeClassifier\n",
        "from sklearn.naive_bayes import MultinomialNB\n",
        "from sklearn.ensemble import RandomForestClassifier\n",
        "from sklearn.linear_model import LogisticRegression\n",
        "from sklearn.svm import LinearSVC\n",
        "import gradio as gr\n",
        "def Token(t):\n",
        "  return ViTokenizer.tokenize(t)\n",
        "\n",
        "def standardize_data(t):\n",
        "\n",
        "  t = t.lower()\n",
        "  t = t.replace(',', ' ').replace('.', ' ')\\\n",
        "      .replace(\";\", \" \").replace(\"“\", \" \") \\\n",
        "      .replace(\":\", \" \").replace(\"”\", \" \") \\\n",
        "      .replace('\"', \" \").replace(\"'\", \" \") \\\n",
        "      .replace(\"!\", \" \").replace(\"?\", \" \").replace(\"-\", \" \").replace(\"?\", \" \") \n",
        "  t = t.strip()\n",
        "  return t\n",
        "\n",
        "def du_doan(comment):\n",
        "  emb_loaded=joblib.load('tf_idf.pkl')\n",
        "  model_loaded=joblib.load('modellr.pkl')# thay đổi file model sử dụng( có 5 model được sử dụng)\n",
        "  comment=comment.strip()\n",
        "  print(comment)\n",
        "  feature=pd.Series(comment.split('.'))\n",
        "  comment=feature\n",
        "  feature = feature.apply(standardize_data)\n",
        "  feature=emb_loaded.transform(feature).toarray()\n",
        "  #print(feature.shape)\n",
        "  predict=model_loaded.predict(feature)\n",
        "  \n",
        "  if predict==1:\n",
        "      return (\"Bình luận tốt về sản phẩm\")\n",
        "  if predict==0:\n",
        "      return (\"Bình luận không liên quan hoặc trung tính về sản phẩm\")\n",
        "  if predict==-1:\n",
        "      return (\"Bình luận kém về sản phẩm\")\n",
        "  "
      ],
      "execution_count": null,
      "outputs": []
    },
    {
      "cell_type": "code",
      "metadata": {
        "colab": {
          "base_uri": "https://localhost:8080/",
          "height": 141
        },
        "id": "c81dJPzA5GrX",
        "outputId": "991f431a-8949-4229-b3c3-0c8e6814c900"
      },
      "source": [
        "du_doan(\"giao hàng quá chậm\")# kết quả dự đoán"
      ],
      "execution_count": null,
      "outputs": [
        {
          "output_type": "stream",
          "text": [
            "LogisticRegression(C=1.0, class_weight=None, dual=False, fit_intercept=True,\n",
            "                   intercept_scaling=1, l1_ratio=None, max_iter=100,\n",
            "                   multi_class='auto', n_jobs=None, penalty='l2',\n",
            "                   random_state=None, solver='lbfgs', tol=0.0001, verbose=0,\n",
            "                   warm_start=False)\n",
            "giao hàng quá chậm\n"
          ],
          "name": "stdout"
        },
        {
          "output_type": "execute_result",
          "data": {
            "application/vnd.google.colaboratory.intrinsic+json": {
              "type": "string"
            },
            "text/plain": [
              "'Bình luận kém về sản phẩm'"
            ]
          },
          "metadata": {},
          "execution_count": 8
        }
      ]
    },
    {
      "cell_type": "markdown",
      "metadata": {
        "id": "e75B2iYHPSoq"
      },
      "source": [
        "# Chạy ứng dụng"
      ]
    },
    {
      "cell_type": "code",
      "metadata": {
        "id": "ysMULIML3bVa"
      },
      "source": [
        "# Define Gradio interface\n",
        "gradio_ui = gr.Interface(\n",
        "    fn=du_doan,\n",
        "    title=\"Phân tích cảm xúc bình luận sản phẩm\",\n",
        "    description=\"Nhập câu bình luận về sản phâm\",\n",
        "    inputs=gr.inputs.Textbox(lines=1, label=\"Paste tweet text here\"),\n",
        "    outputs=gr.outputs.Textbox(label=\"Chất lượng sản phẩm\"),\n",
        ")"
      ],
      "execution_count": null,
      "outputs": []
    },
    {
      "cell_type": "code",
      "metadata": {
        "colab": {
          "base_uri": "https://localhost:8080/",
          "height": 643
        },
        "id": "8zpLQzv13dQ4",
        "outputId": "aaf6db35-9c34-40e9-f7a1-60c6fe9bfeac"
      },
      "source": [
        "gradio_ui.launch()\n",
        "# chọn link ứng dụng ở bên dưới để trải nghiệm ứng dụng\n",
        "# cảm ơn thầy đã sử dụng và trải nghiệm.( ứng dụng nhiều khi có thể có một số dự đoán tấu hài mong thầy thông cảm cho nhóm em ạ)"
      ],
      "execution_count": null,
      "outputs": [
        {
          "output_type": "stream",
          "text": [
            "Colab notebook detected. To show errors in colab notebook, set `debug=True` in `launch()`\n",
            "This share link will expire in 24 hours. If you need a permanent link, visit: https://gradio.app/introducing-hosted (NEW!)\n",
            "Running on External URL: https://48140.gradio.app\n",
            "Interface loading below...\n"
          ],
          "name": "stdout"
        },
        {
          "output_type": "display_data",
          "data": {
            "text/html": [
              "\n",
              "        <iframe\n",
              "            width=\"900\"\n",
              "            height=\"500\"\n",
              "            src=\"https://48140.gradio.app\"\n",
              "            frameborder=\"0\"\n",
              "            allowfullscreen\n",
              "        ></iframe>\n",
              "        "
            ],
            "text/plain": [
              "<IPython.lib.display.IFrame at 0x7f87eea24b90>"
            ]
          },
          "metadata": {}
        },
        {
          "output_type": "execute_result",
          "data": {
            "text/plain": [
              "(<Flask 'gradio.networking'>,\n",
              " 'http://127.0.0.1:7860/',\n",
              " 'https://48140.gradio.app')"
            ]
          },
          "metadata": {},
          "execution_count": 10
        }
      ]
    }
  ]
}